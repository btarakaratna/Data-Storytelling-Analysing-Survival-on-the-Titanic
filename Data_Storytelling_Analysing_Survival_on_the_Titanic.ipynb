{
  "nbformat": 4,
  "nbformat_minor": 0,
  "metadata": {
    "colab": {
      "provenance": [],
      "authorship_tag": "ABX9TyP347uH6EG77b0jD9uMB43l",
      "include_colab_link": true
    },
    "kernelspec": {
      "name": "python3",
      "display_name": "Python 3"
    },
    "language_info": {
      "name": "python"
    }
  },
  "cells": [
    {
      "cell_type": "markdown",
      "metadata": {
        "id": "view-in-github",
        "colab_type": "text"
      },
      "source": [
        "<a href=\"https://colab.research.google.com/github/btarakaratna/Data-Storytelling-Analysing-Survival-on-the-Titanic/blob/main/Data_Storytelling_Analysing_Survival_on_the_Titanic.ipynb\" target=\"_parent\"><img src=\"https://colab.research.google.com/assets/colab-badge.svg\" alt=\"Open In Colab\"/></a>"
      ]
    },
    {
      "cell_type": "markdown",
      "source": [
        "**End to End Exploratory Data Analysic (EDA) on the Titanic Dataset**"
      ],
      "metadata": {
        "id": "4mQgmrXKWaOz"
      }
    },
    {
      "cell_type": "markdown",
      "source": [
        "Why do we use EDA?\n",
        "1. Understanding the Data\n",
        "2.Data Cleaning\n",
        "3. Feature Selction\n",
        "4. Assumption Checking\n",
        "\n",
        "Mainly used Libraries are :\n",
        "1. Pandas\n",
        "2. Seaborn"
      ],
      "metadata": {
        "id": "dE8qH_obXOoc"
      }
    },
    {
      "cell_type": "code",
      "execution_count": null,
      "metadata": {
        "id": "ZblR2bi8RmJO"
      },
      "outputs": [],
      "source": [
        "import sys\n",
        "!{sys.executable} -m pip install numpy"
      ]
    },
    {
      "cell_type": "code",
      "source": [
        "import sys\n",
        "!{sys.executable} -m pip install pandas"
      ],
      "metadata": {
        "id": "yIoT2E3PXz1n"
      },
      "execution_count": null,
      "outputs": []
    },
    {
      "cell_type": "code",
      "source": [
        "import sys\n",
        "!{sys.executable} -m pip install matplotlib\n"
      ],
      "metadata": {
        "id": "ZB3SZ6qyX6sU"
      },
      "execution_count": null,
      "outputs": []
    },
    {
      "cell_type": "code",
      "source": [
        "import matplotlib.pyplot as plt\n",
        "import seaborn as sns\n",
        "sns.set(style='whitegrid')"
      ],
      "metadata": {
        "id": "K0tqIvKsYVbD"
      },
      "execution_count": null,
      "outputs": []
    },
    {
      "cell_type": "code",
      "source": [
        "!git clone 'https://github.com/GeeksforgeeksDS/21-Days-21-Projects-Dataset'\n",
        "#git clones the repo to the local, after installing the data set we will be working on it"
      ],
      "metadata": {
        "id": "703wnLWEYYZv"
      },
      "execution_count": null,
      "outputs": []
    },
    {
      "cell_type": "code",
      "source": [
        "import pandas as pd\n",
        "import numpy as np"
      ],
      "metadata": {
        "id": "BeDk4IDtZLYh"
      },
      "execution_count": null,
      "outputs": []
    },
    {
      "cell_type": "code",
      "source": [
        "# Load the dataset from a URL\n",
        "titanic_df = pd.read_csv('/content/21-Days-21-Projects-Dataset/Datasets/Titanic-Dataset.csv')\n",
        "\n",
        "# Displaying the first 5 rows\n",
        "print(\"First 5 rows of the dataset:\")\n",
        "titanic_df.head()"
      ],
      "metadata": {
        "id": "Hs9NQKYVZDu2"
      },
      "execution_count": null,
      "outputs": []
    },
    {
      "cell_type": "code",
      "source": [
        "# Displaying the last 5 rows\n",
        "titanic_df.tail()"
      ],
      "metadata": {
        "id": "gAjWm2tlZhxQ"
      },
      "execution_count": null,
      "outputs": []
    },
    {
      "cell_type": "code",
      "source": [
        "#tells us the entire shape of the DataSet\n",
        "titanic_df.shape"
      ],
      "metadata": {
        "id": "n7_NVVLNZ36b"
      },
      "execution_count": null,
      "outputs": []
    },
    {
      "cell_type": "code",
      "source": [
        "#Summary:\n",
        "print(\"Summary of the dataset:\")\n",
        "titanic_df.info()"
      ],
      "metadata": {
        "id": "hhWVEyhlbnep"
      },
      "execution_count": null,
      "outputs": []
    },
    {
      "cell_type": "markdown",
      "source": [
        "-- By the Info we get there are Missing Values: there are the Null Values in the Dataset, for whihc we should work on it mainly these three coloumns : Age , Cabin , Embarked"
      ],
      "metadata": {
        "id": "ex26kZW6cEzO"
      }
    },
    {
      "cell_type": "code",
      "source": [
        "print(\"Describe Stats of the dataset:\")\n",
        "titanic_df.describe()"
      ],
      "metadata": {
        "id": "JQYGU1Zzb4Xa"
      },
      "execution_count": null,
      "outputs": []
    },
    {
      "cell_type": "markdown",
      "source": [
        "by the describe() interpretation we get:\n",
        "\n",
        "Survived: Roughly 38.4% of the passengers made it through the disaster.\n",
        "\n",
        "Age: Passenger ages span from about 5 months to 80 years, with the typical (average) age being close to 30.\n",
        "\n",
        "Fare: Ticket prices show strong skewness—the average fare is around $32, but half of the passengers paid less than $14.45. Some individuals paid as much as $512, highlighting significant outliers."
      ],
      "metadata": {
        "id": "lBK8kRxKdO7Y"
      }
    },
    {
      "cell_type": "markdown",
      "source": [
        "Data Cleaning: to clean the data set mainly the Missing Values which are Null Values, Data Set is also bifurcated into :\n",
        "--Numerical Data\n",
        "--Categorical Data\n",
        "--High Cardinality/Null Values"
      ],
      "metadata": {
        "id": "GAomcgd-eBG1"
      }
    },
    {
      "cell_type": "code",
      "source": [
        "titanic_df['Cabin'].value_counts()"
      ],
      "metadata": {
        "id": "1Y6D6l_Qe3D4"
      },
      "execution_count": null,
      "outputs": []
    },
    {
      "cell_type": "code",
      "source": [
        "#Going through the Missing values before cleaning\n",
        "#isna() going to check how many null values are present\n",
        "titanic_df.isna().sum()"
      ],
      "metadata": {
        "id": "rdthYPcPfIg8"
      },
      "execution_count": null,
      "outputs": []
    },
    {
      "cell_type": "markdown",
      "source": [
        "**Age has 177 Missing Null Values,\n",
        "Cbain has 687 Missing Null Values,\n",
        "Embarked has 2 Missing Values**"
      ],
      "metadata": {
        "id": "R_CFuWf8hPdo"
      }
    },
    {
      "cell_type": "code",
      "source": [
        "titanic_df.isna()"
      ],
      "metadata": {
        "id": "7CoKoS_DhG6i"
      },
      "execution_count": null,
      "outputs": []
    },
    {
      "cell_type": "code",
      "source": [
        "median = titanic_df['Age'].median()\n",
        "print(median)"
      ],
      "metadata": {
        "id": "HKF3K_wchxXz"
      },
      "execution_count": null,
      "outputs": []
    },
    {
      "cell_type": "code",
      "source": [
        "#Firstly we will deal with the Missing values of AGE, we will use the median to fill missing ages.\n",
        "median_age = titanic_df['Age'].median()\n",
        "titanic_df['Age'] = titanic_df['Age'].fillna(median_age)"
      ],
      "metadata": {
        "id": "t6etlRzZgGzE"
      },
      "execution_count": null,
      "outputs": []
    },
    {
      "cell_type": "code",
      "source": [
        "# Verifying that there are no more missing null values for AGE\n",
        "print(\"Missing values after Age cleaning:\")\n",
        "print(titanic_df[['Age', 'Embarked', 'Cabin']].isna().sum())\n",
        "#Here the null values of AGE is been filled with the Median Value that is 28."
      ],
      "metadata": {
        "id": "kFBNksYbiT-H"
      },
      "execution_count": null,
      "outputs": []
    },
    {
      "cell_type": "code",
      "source": [
        "mode = titanic_df['Embarked'].mode()\n",
        "print(mode)\n",
        "mode = titanic_df['Embarked'].mode([0])\n",
        "print(mode)"
      ],
      "metadata": {
        "id": "eH9xN4MAjX-D"
      },
      "execution_count": null,
      "outputs": []
    },
    {
      "cell_type": "code",
      "source": [
        "#Secondly we will deal with the Missing values of EMBARKED, we will use the most common part of Embarkation.\n",
        "most_common_embarked = titanic_df['Embarked'].mode()[0]\n",
        "titanic_df['Embarked'] = titanic_df['Embarked'].fillna(most_common_embarked)"
      ],
      "metadata": {
        "id": "zS6WxjBxiomi"
      },
      "execution_count": null,
      "outputs": []
    },
    {
      "cell_type": "code",
      "source": [
        "# Verifying that there are no more missing null values for EMBARKED\n",
        "print(\"Missing values after Embarked cleaning:\")\n",
        "print(titanic_df[['Age', 'Embarked', 'Cabin']].isna().sum())\n",
        "#Here the null values of Embarked is been filled with 'S'."
      ],
      "metadata": {
        "id": "L1Nzp_HljpSp"
      },
      "execution_count": null,
      "outputs": []
    },
    {
      "cell_type": "code",
      "source": [
        "#At last we are dealing with the Missing values of Cabin.\n",
        "titanic_df['Has_Cabin'] = titanic_df['Cabin'].notna().astype(int) # 1 if has cabin, 0 if not basically it's TRU or FALSE\n",
        "titanic_df.drop('Cabin', axis=1, inplace=True)"
      ],
      "metadata": {
        "id": "VfdFegO8lFQh"
      },
      "execution_count": null,
      "outputs": []
    },
    {
      "cell_type": "code",
      "source": [
        "titanic_df.head()"
      ],
      "metadata": {
        "id": "2uJfULhVma9t"
      },
      "execution_count": null,
      "outputs": []
    },
    {
      "cell_type": "code",
      "source": [
        "#Checking that are there any missing (NULL VALUES) till now for the coloumns which we have handeld.\n",
        "print(\"Missing values after cleaning:\")\n",
        "titanic_df.isna().sum()"
      ],
      "metadata": {
        "id": "jByTrk_Zm6e2"
      },
      "execution_count": null,
      "outputs": []
    },
    {
      "cell_type": "markdown",
      "source": [
        "**Celaning Part is Done in which we have Handeled the NULL values, Now we will perform Univariate Analysis, Bivariate and Multivariate Analysis.**\n",
        "\n",
        "\n",
        "**For Categorical Variables: We use frequency tables, bar charts, or pie charts to see the count or proportion of each category.**\n",
        "\n",
        "**For Numerical Variables: We use histograms  or kernel density plots to understand the distribution, and box plots  to identify the central tendency, spread, and outliers.**"
      ],
      "metadata": {
        "id": "OWueqhMJnftZ"
      }
    },
    {
      "cell_type": "code",
      "source": [
        "print(\"Performing categorical feature analysis...\")\n",
        "\n",
        "# Create the overall figure and define the grid layout\n",
        "fig, axes = plt.subplots(2, 3, figsize=(18, 12))\n",
        "fig.suptitle('Categorical Feature Distribution (Univariate Analysis)', fontsize=16)\n",
        "\n",
        "# Generate bar plots for each categorical column\n",
        "sns.countplot(ax=axes[0, 0], x='Survived', data=titanic_df).set_title('Survival Count')\n",
        "sns.countplot(ax=axes[0, 1], x='Pclass', data=titanic_df).set_title('Class of Travel')\n",
        "sns.countplot(ax=axes[0, 2], x='Sex', data=titanic_df).set_title('Sex Distribution')\n",
        "sns.countplot(ax=axes[1, 0], x='Embarked', data=titanic_df).set_title('Embarkation Points')\n",
        "sns.countplot(ax=axes[1, 1], x='SibSp', data=titanic_df).set_title('Number of Siblings/Spouses')\n",
        "sns.countplot(ax=axes[1, 2], x='Parch', data=titanic_df).set_title('Number of Parents/Children')\n",
        "\n",
        "# Adjust spacing to prevent overlapping titles and labels\n",
        "plt.tight_layout(rect=[0, 0, 1, 0.96])\n",
        "plt.show()\n"
      ],
      "metadata": {
        "id": "Rtomr-8WorJb"
      },
      "execution_count": null,
      "outputs": []
    },
    {
      "cell_type": "markdown",
      "source": [
        "**Here are the Key Insights from the Categorical Data (based on the plots):**\n",
        "\n",
        "**Survival (0 = No, 1 = Yes):**\n",
        "\n",
        "--A majority of passengers did not survive.\n",
        "\n",
        "--Survivors account for about one-third of the dataset.\n",
        "\n",
        "**Passenger Class (Pclass):**\n",
        "\n",
        "--Most travelers belonged to 3rd class, followed by 1st class, with 2nd class having the fewest passengers.\n",
        "\n",
        "**Sex:**\n",
        "\n",
        "--There were significantly more males than females onboard.\n",
        "\n",
        "**Embarkation Port (Embarked):**\n",
        "\n",
        "--The majority of passengers boarded from Southampton (S).\n",
        "\n",
        "--A smaller group boarded from Cherbourg (C), and the least from Queenstown (Q).\n",
        "\n",
        "**Siblings/Spouses Aboard (SibSp):**\n",
        "\n",
        "--Most passengers traveled alone (0).\n",
        "\n",
        "--A noticeable portion had 1 sibling/spouse, but very few had more than 2.\n",
        "\n",
        "**Parents/Children Aboard (Parch):**\n",
        "\n",
        "--Most passengers did not travel with parents or children (0).\n",
        "\n",
        "--A small group had 1 or 2, and only rare cases had larger family groups."
      ],
      "metadata": {
        "id": "EQlKjKdZp8sJ"
      }
    },
    {
      "cell_type": "code",
      "source": [
        "print(\"\\nExploring numerical feature distributions...\")\n",
        "\n",
        "# Create figure with subplots for numerical variables\n",
        "fig, axes = plt.subplots(1, 2, figsize=(16, 6))\n",
        "fig.suptitle('Distribution of Numerical Variables (Univariate Analysis)', fontsize=16)\n",
        "\n",
        "# Histogram with KDE for Age\n",
        "sns.histplot(ax=axes[0], data=titanic_df, x='Age', bins=30, kde=True).set_title('Passenger Age Spread')\n",
        "\n",
        "# Histogram with KDE for Fare\n",
        "sns.histplot(ax=axes[1], data=titanic_df, x='Fare', bins=40, kde=True).set_title('Passenger Fare Spread')\n",
        "\n",
        "# Display the plots\n",
        "plt.show()\n"
      ],
      "metadata": {
        "id": "ctDySdsEq6GA"
      },
      "execution_count": null,
      "outputs": []
    },
    {
      "cell_type": "markdown",
      "source": [
        "**In this we see a Spike because the Age coloumn before the date is celaned we have some Missing Values they are the Null Values which has been filled with the Median of the AGE because of the Proportion we see a Spike here.**\n",
        "\n",
        "**Key Insights from the Numerical Data (based on the plots):**\n",
        "Age Distribution:\n",
        "\n",
        "**Passenger ages are spread from infancy to around 80 years.**\n",
        "\n",
        "--The distribution is slightly right-skewed, with a concentration of passengers in their 20s and early 30s.\n",
        "\n",
        "--Very few passengers were either very young children or elderly (above 65).\n",
        "\n",
        "**Fare Distribution:**\n",
        "\n",
        "--Fares show a highly right-skewed distribution.\n",
        "\n",
        "--The majority of passengers paid low fares (below $50).\n",
        "\n",
        "--A small number of passengers paid extremely high fares (above $200), indicating the presence of outliers, likely corresponding to first-class luxury tickets."
      ],
      "metadata": {
        "id": "s1uvPpSDq81E"
      }
    },
    {
      "cell_type": "markdown",
      "source": [
        "**Bivariate Analsis:\n",
        "This analysis involves two different Variables, and it's purpose is to find relationship between them.**\n",
        "\n",
        "**Categorical vs. Numerical:**\n",
        "\n",
        "Used to analyze how a numeric variable varies across different categories.\n",
        "\n",
        "Common visual tools: bar plots (mean/median values), box plots, and violin plots.\n",
        "\n",
        "**Categorical vs. Categorical:**\n",
        "\n",
        "Used to study interactions between two categorical variables.\n",
        "\n",
        "Represented with stacked bar charts or contingency tables (crosstabs).\n",
        "\n",
        "**Numerical vs. Numerical:**\n",
        "\n",
        "Explores the relationship between two numeric variables.\n",
        "\n",
        "Visualized through scatter plots, while a correlation matrix helps quantify the strength and direction of relationships."
      ],
      "metadata": {
        "id": "yrlng6hAfgg9"
      }
    },
    {
      "cell_type": "code",
      "source": [
        "# Check if 'Cabin' exists\n",
        "if 'Cabin' in titanic_df.columns:\n",
        "    # Create the feature\n",
        "    titanic_df['Has_Cabin'] = titanic_df['Cabin'].notnull().astype(int)\n",
        "    print(titanic_df[['Cabin', 'Has_Cabin']].head())\n",
        "else:\n",
        "    # If 'Cabin' is missing, create the column with all 0s or NaNs\n",
        "    print(\"'Cabin' column not found in the dataset. Creating 'Has_Cabin' as 0.\")\n",
        "    titanic_df['Has_Cabin'] = 0\n",
        "    print(titanic_df[['Has_Cabin']].head())\n"
      ],
      "metadata": {
        "id": "pJGxLFQshdrS"
      },
      "execution_count": null,
      "outputs": []
    },
    {
      "cell_type": "code",
      "source": [
        "print(\"Conducting Bivariate Analysis: Survival vs. Key Features\")\n",
        "\n",
        "# Create a 2x2 grid of plots for comparison\n",
        "fig, axes = plt.subplots(2, 2, figsize=(16, 12))\n",
        "fig.suptitle('Relationship Between Survival and Other Features', fontsize=16)\n",
        "\n",
        "# Compare passenger class with survival\n",
        "sns.barplot(ax=axes[0, 0], x='Pclass', y='Survived', data=titanic_df).set_title('Impact of Passenger Class on Survival')\n",
        "\n",
        "# Compare gender with survival\n",
        "sns.barplot(ax=axes[0, 1], x='Sex', y='Survived', data=titanic_df).set_title('Impact of Gender on Survival')\n",
        "\n",
        "# Compare embarkation port with survival\n",
        "sns.barplot(ax=axes[1, 0], x='Embarked', y='Survived', data=titanic_df).set_title('Impact of Port of Embarkation on Survival')\n",
        "\n",
        "# Compare cabin availability with survival\n",
        "sns.barplot(ax=axes[1, 1], x='Has_Cabin', y='Survived', data=titanic_df).set_title('Impact of Cabin Information on Survival')\n",
        "\n",
        "# Adjust layout to avoid overlapping elements\n",
        "plt.tight_layout(rect=[0, 0, 1, 0.96])\n",
        "plt.show()\n"
      ],
      "metadata": {
        "id": "-o-eKB6TgI6T"
      },
      "execution_count": null,
      "outputs": []
    },
    {
      "cell_type": "markdown",
      "source": [
        "Bivariate Analysis Insights\n",
        "\n",
        "**Passenger Class (Pclass):**\n",
        "Survival strongly depended on class. More than 60% of 1st class passengers survived, while survival in 3rd class dropped below 25%.\n",
        "\n",
        "**Gender (Sex):**\n",
        "Gender was the most decisive factor. Around 75% of females survived compared to less than 20% of males.\n",
        "\n",
        "**Port of Embarkation (Embarked):**\n",
        "Passengers boarding from Cherbourg (C) showed the highest survival chances compared to those from Southampton (S) or Queenstown (Q).\n",
        "\n",
        "**Cabin Availability (Has_Cabin):**\n",
        "Having a recorded cabin greatly increased survival odds, which is likely linked with higher-class travel (mainly 1st class)."
      ],
      "metadata": {
        "id": "AGzYfsMFhzxK"
      }
    },
    {
      "cell_type": "code",
      "source": [
        "#Age v/s Survival\n",
        "g = sns.FacetGrid(titanic_df, col='Survived', height=6)\n",
        "#here the FacteGrid FacetGrid class helps in visualizing distribution of one variable as well as the relationship between multiple variables separately within subsets of your dataset using multiple panels.\n",
        "g.map(sns.histplot, 'Age', bins=25, kde=True)\n",
        "plt.suptitle('Age Distribution by Survival Status', y=1.02)\n",
        "plt.show()"
      ],
      "metadata": {
        "id": "An27tCLDiULu"
      },
      "execution_count": null,
      "outputs": []
    },
    {
      "cell_type": "markdown",
      "source": [
        "**Non-Survivors (Survived = 0):**\n",
        "\n",
        "The majority of those who did not survive were young adults in their 20s and 30s.\n",
        "\n",
        "Very few elderly passengers (above 60) survived, and their overall counts were also low.\n",
        "\n",
        "Infants and very young children were less represented among non-survivors.\n",
        "\n",
        "**Survivors (Survived = 1):**\n",
        "\n",
        "Survivors were spread across different ages, but again a large concentration was in the 20–30 age group.\n",
        "\n",
        "Compared to non-survivors, there appears to be a slightly higher survival rate among children and younger passengers.\n",
        "\n",
        "Older passengers (50+) had noticeably fewer survivors, indicating lower survival chances in higher age groups.\n",
        "\n",
        "**Overall Insight: Age played a role in survival, with children and young adults having relatively better survival outcomes, while elderly passengers were at a clear disadvantage.**"
      ],
      "metadata": {
        "id": "VZSMeiI6kQe8"
      }
    },
    {
      "cell_type": "markdown",
      "source": [
        "**Performing Outlier Analysis for the Fare**"
      ],
      "metadata": {
        "id": "LTSiGDvrki9a"
      }
    },
    {
      "cell_type": "code",
      "source": [
        "plt.figure(figsize=(10,8))\n",
        "sns.boxplot(y='Fare', data=titanic_df)\n",
        "plt.title('Fare Distribution')\n",
        "plt.ylabel('Fare')\n",
        "plt.show()"
      ],
      "metadata": {
        "id": "VsKQa0mzkrmo"
      },
      "execution_count": null,
      "outputs": []
    },
    {
      "cell_type": "markdown",
      "source": [
        "**Right-Skewed Distribution:** The majority of fares are clustered at the lower end, with many passengers paying less than 50 units.\n",
        "\n",
        "**Outliers:** There are several extreme outliers, with fares going well above 100, some even exceeding 500. These represent wealthy passengers, likely in 1st class.\n",
        "\n",
        "**Median Fare:** The median fare is quite low compared to the maximum values, reinforcing the fact that most passengers traveled in lower fare classes.\n",
        "\n",
        "**Spread:** The interquartile range (IQR) is relatively small compared to the extreme outliers, showing that while most fares were modest, a minority paid disproportionately high amounts.\n",
        "\n",
        "**Overall Insight: The fare distribution is highly skewed, reflecting the social and economic disparity among Titanic passengers—most paid low fares, but a small group paid extremely high amounts for premium accommodations.**"
      ],
      "metadata": {
        "id": "GXtPXQUclTlj"
      }
    },
    {
      "cell_type": "code",
      "source": [],
      "metadata": {
        "id": "wEXIWRiHmInH"
      },
      "execution_count": null,
      "outputs": []
    },
    {
      "cell_type": "markdown",
      "source": [
        "**Feature Egineering**\n",
        "Feature engineering is about transforming raw data into meaningful features that make patterns clearer for machine learning models.\n",
        "\n",
        "\n",
        "**Feature Combination**:\n",
        "Merge multiple features to create a new one.\n",
        "Example: FamilySize = SibSp + Parch\n",
        "\n",
        "**Text-Based Extraction**:\n",
        "Pull out useful details from text fields.\n",
        "Example: From Name, extract titles like Mr., Mrs., Miss.\n",
        "\n",
        "**Binning / Discretization**:\n",
        "Convert continuous values into categories.\n",
        "Example: Group Age into categories → Child, Adult, Senior"
      ],
      "metadata": {
        "id": "9ZDE1Ne2lgV1"
      }
    },
    {
      "cell_type": "code",
      "source": [
        "#1.Create a 'FamilySize feature'\n",
        "titanic_df['FamilySize'] = titanic_df['SibSp'] + titanic_df['Parch'] + 1\n",
        "\n",
        "#2. Create an 'IsAlone' feature\n",
        "titanic_df['IsAlone'] = 0\n",
        "titanic_df.loc[titanic_df['FamilySize'] == 1, 'IsAlone'] = 1\n",
        "\n",
        "print(\"Created 'FamilySize' and 'IsAlone' features:\")\n",
        "titanic_df[['FamilySize', 'IsAlone']].head()"
      ],
      "metadata": {
        "id": "p18BLFm8mR-W"
      },
      "execution_count": null,
      "outputs": []
    },
    {
      "cell_type": "code",
      "source": [
        "# Family-related features vs. Survival\n",
        "\n",
        "plt.figure(figsize=(16, 6))\n",
        "\n",
        "# Plot 1: Family Size\n",
        "plt.subplot(1, 2, 1)\n",
        "sns.barplot(x=\"FamilySize\", y=\"Survived\", data=titanic_df)\n",
        "plt.title(\"Survival Rate by Family Size\")\n",
        "\n",
        "# Plot 2: Traveling Alone\n",
        "plt.subplot(1, 2, 2)\n",
        "sns.barplot(x=\"IsAlone\", y=\"Survived\", data=titanic_df)\n",
        "plt.title(\"Survival Rate for Solo Travelers\")\n",
        "\n",
        "plt.tight_layout()\n",
        "plt.show()"
      ],
      "metadata": {
        "id": "ibPSjWShm1HA"
      },
      "execution_count": null,
      "outputs": []
    },
    {
      "cell_type": "markdown",
      "source": [
        "**Key Insights**\n",
        "\n",
        "**Survival Rate by Family Size**:\n",
        "\n",
        "Passengers with small family sizes (2–4 members) had the highest survival rates, with FamilySize = 4 showing the best outcome (around 70%+ survival).\n",
        "\n",
        "Those traveling alone (FamilySize = 1) had a much lower survival rate (~30%).\n",
        "\n",
        "Very large families (5 or more members) had reduced survival rates, likely due to difficulties evacuating together.                                       \n",
        "**Survival Rate for Solo Travelers (IsAlone)**:\n",
        "\n",
        "Passengers not alone (IsAlone = 0) had a survival rate of about 50%, higher than solo travelers.\n",
        "\n",
        "Solo travelers (IsAlone = 1) had only about a 30% survival rate, confirming that traveling with family increased the chances of survival."
      ],
      "metadata": {
        "id": "yqIoOtj6nZRY"
      }
    },
    {
      "cell_type": "code",
      "source": [
        "# 3. Extracting the 'Title' from the 'Name' column\n",
        "titanic_df['Title'] = titanic_df['Name'].str.extract(r' ([A-Za-z]+)\\.', expand=False)\n",
        "\n",
        "# Let's see the different titles\n",
        "print(\"Extracted Titles:\")\n",
        "titanic_df['Title'].value_counts()"
      ],
      "metadata": {
        "id": "4rvOyxuKnlDC"
      },
      "execution_count": null,
      "outputs": []
    },
    {
      "cell_type": "code",
      "source": [
        "# Step 1: Cleaning up the Title column\n",
        "# Replace uncommon titles with 'Rare'\n",
        "titanic_df['Title'] = titanic_df['Title'].replace(\n",
        "    ['Lady', 'Countess', 'Capt', 'Col', 'Don', 'Dr',\n",
        "     'Major', 'Rev', 'Sir', 'Jonkheer', 'Dona'], 'Rare'\n",
        ")\n",
        "\n",
        "# Replace similar titles with common ones\n",
        "titanic_df['Title'] = titanic_df['Title'].replace(['Mlle', 'Ms'], 'Miss')\n",
        "titanic_df['Title'] = titanic_df['Title'].replace('Mme', 'Mrs')\n",
        "\n",
        "# Step 2: Plot the survival rate by Title\n",
        "plt.figure(figsize=(10, 5))  # Set figure size\n",
        "sns.barplot(data=titanic_df, x='Title', y='Survived')  # Bar plot\n",
        "plt.title('Survival Rate by Passenger Title')  # Add title\n",
        "plt.xlabel('Passenger Title')  # X-axis label\n",
        "plt.ylabel('Survival Probability')  # Y-axis label\n",
        "plt.show()\n"
      ],
      "metadata": {
        "id": "8GbhNwYLolCN"
      },
      "execution_count": null,
      "outputs": []
    },
    {
      "cell_type": "markdown",
      "source": [
        "**Here are the Key Insights from the graph on Survival Rate by Passenger Title:**\n",
        "\n",
        "**Mrs (Married Women)**:\n",
        "\n",
        "Highest survival probability (~80%).\n",
        "\n",
        "Suggests that married women were prioritized during rescue.\n",
        "\n",
        "**Miss (Unmarried Women)**:\n",
        "\n",
        "High survival rate (~70%).\n",
        "\n",
        "Reinforces the \"women and children first\" policy.\n",
        "\n",
        "**Master (Young Boys)**:\n",
        "\n",
        "Survival rate is moderate (~55–60%).\n",
        "\n",
        "Indicates that children also had a better chance compared to adult men.\n",
        "\n",
        "**Mr (Adult Men)**:\n",
        "\n",
        "Lowest survival probability (~15%).\n",
        "\n",
        "Clearly shows that men had the least chance of survival.\n",
        "\n",
        "Rare Titles (nobility, clergy, officers, etc.):\n",
        "\n",
        "Survival rate is around 35–40%.\n",
        "\n",
        "**Titles played a significant role in survival prediction. Women (Mrs, Miss) and children (Master) had much higher survival rates than adult men (Mr). Rare titles had variable survival chances but were generally better off than common men.**"
      ],
      "metadata": {
        "id": "JFbBky9fpD7U"
      }
    },
    {
      "cell_type": "code",
      "source": [],
      "metadata": {
        "id": "B0VbMICzpPTp"
      },
      "execution_count": null,
      "outputs": []
    },
    {
      "cell_type": "markdown",
      "source": [
        "**Let's jump to Multivaraite Analysis**\n",
        "\n",
        "Exploreing the interactions multiple between variblessimultanrously, including our new engineered features."
      ],
      "metadata": {
        "id": "9O9HJ3dapP91"
      }
    },
    {
      "cell_type": "code",
      "source": [
        "# Survival rate by Pclass and Sex\n",
        "sns.catplot(x='Pclass', y='Survived', hue='Sex', data=titanic_df, kind='bar', height=6, aspect=1.5)\n",
        "plt.title('Survival Rate by Pclass and Sex')\n",
        "plt.ylabel('Survival Probability')\n",
        "plt.show()\n",
        "\n",
        "# Insights: Females in all classes had a significantly higher survival rate than males."
      ],
      "metadata": {
        "id": "eooQXc5mpg07"
      },
      "execution_count": null,
      "outputs": []
    },
    {
      "cell_type": "code",
      "source": [
        "# Violin plot: Age distribution by Sex and Survival\n",
        "plt.figure(figsize=(12,6))   # Set figure size\n",
        "sns.violinplot(\n",
        "    x=\"Sex\",\n",
        "    y=\"Age\",\n",
        "    hue=\"Survived\",\n",
        "    data=titanic_df,\n",
        "    split=True\n",
        ")\n",
        "\n",
        "# Add title and labels\n",
        "plt.title(\"Age Distribution by Sex and Survival Status\")\n",
        "plt.xlabel(\"Sex\")\n",
        "plt.ylabel(\"Age\")\n",
        "\n",
        "# Show the plot\n",
        "plt.show()"
      ],
      "metadata": {
        "id": "h3k2H_abpuDH"
      },
      "execution_count": null,
      "outputs": []
    },
    {
      "cell_type": "markdown",
      "source": [
        "**Correlation Analyis**:\n"
      ],
      "metadata": {
        "id": "0JfFptKcqK5E"
      }
    },
    {
      "cell_type": "code",
      "source": [
        "# Select only numerical columns\n",
        "numeric_data = titanic_df.select_dtypes(include=['int64', 'float64'])\n",
        "\n",
        "# Create correlation matrix\n",
        "corr = numeric_data.corr()\n",
        "\n",
        "# Plot heatmap\n",
        "plt.figure(figsize=(12,8))\n",
        "heatmap = sns.heatmap(\n",
        "    corr,\n",
        "    annot=True,      # Show numbers on heatmap\n",
        "    cmap=\"YlGnBu\",   # Different color scheme\n",
        "    linewidths=0.5,  # Add grid lines\n",
        "    square=True      # Make cells more square-shaped\n",
        ")\n",
        "\n",
        "# Add title\n",
        "plt.title(\"Correlation Heatmap of Titanic Numerical Features\", fontsize=14)\n",
        "plt.show()\n"
      ],
      "metadata": {
        "id": "vF2iv37UqRHv"
      },
      "execution_count": null,
      "outputs": []
    },
    {
      "cell_type": "markdown",
      "source": [
        "**1.Survived Correlations**:\n",
        "\n",
        "Sex (encoded as 0 = male, 1 = female) usually has the strongest positive correlation with survival → females were far more likely to survive.\n",
        "\n",
        "Pclass (passenger class) has a negative correlation with survival → higher-class passengers (1st class) had better chances.\n",
        "\n",
        "Fare shows a positive correlation with survival → passengers who paid higher fares (often in 1st class) tended to survive more.\n",
        "\n",
        "**2.Age**\n",
        "\n",
        "Age typically has a weak negative correlation with survival → younger passengers had slightly better chances, but the effect is not very strong.\n",
        "\n",
        "**3.Family-related features (SibSp, Parch, FamilySize)**:\n",
        "\n",
        "Small families (2–4 members) correlate positively with survival.\n",
        "\n",
        "Larger families tend to have a negative impact on survival chances.\n",
        "\n",
        "**4.Relationships Among Predictors**:\n",
        "\n",
        "Pclass and Fare are strongly negatively correlated → higher class passengers usually paid more.\n",
        "\n",
        "SibSp and Parch correlate with FamilySize (since FamilySize is derived from them)."
      ],
      "metadata": {
        "id": "gI0Nw3LxqpF3"
      }
    },
    {
      "cell_type": "markdown",
      "source": [
        "# A sample dataframe is added here, do your analysis of titanic dataframe and provide us the y-profiling of that"
      ],
      "metadata": {
        "id": "IZWD-d44uz3e"
      }
    },
    {
      "cell_type": "code",
      "source": [
        "# Install ydata-profiling\n",
        "!pip install ydata-profiling -q"
      ],
      "metadata": {
        "id": "9RaaziYgu1um"
      },
      "execution_count": null,
      "outputs": []
    },
    {
      "cell_type": "code",
      "source": [
        "# Generate the profiling report\n",
        "from ydata_profiling import ProfileReport\n",
        "\n",
        "profile = ProfileReport(titanic_df, title=\"Titanic Dataset Profiling Report\")\n",
        "\n",
        "# Display the report in the notebook\n",
        "profile.to_notebook_iframe()"
      ],
      "metadata": {
        "id": "LK7bOu4yu7bT"
      },
      "execution_count": null,
      "outputs": []
    },
    {
      "cell_type": "code",
      "source": [
        "#Saving the report to a HTML File.\n",
        "profile.to_file(\"titanic_profiling_report.html\")"
      ],
      "metadata": {
        "id": "p73CnoU_vb1j"
      },
      "execution_count": null,
      "outputs": []
    },
    {
      "cell_type": "code",
      "source": [
        "# Install ydata-profiling\n",
        "!pip install ydata-profiling -q"
      ],
      "metadata": {
        "id": "mSbPEw6kvwdw"
      },
      "execution_count": null,
      "outputs": []
    },
    {
      "cell_type": "markdown",
      "source": [
        "**Conclusion and Key Insights from EDA**\n",
        "\n",
        "The exploratory data analysis of the Titanic dataset provides a comprehensive understanding of the factors affecting passenger survival. Feature engineering has enhanced our ability to identify important predictors, which can be leveraged in a predictive model.\n",
        "\n",
        "**1. Most Significant Predictors of Survival**\n",
        "\n",
        "**Title & Sex:**\n",
        "\n",
        "Females (Mrs, Miss) had the highest survival rates.\n",
        "\n",
        "Young boys (Master) survived at higher rates than adult males (Mr).\n",
        "\n",
        "The engineered Title feature captures these nuances more effectively than Sex alone.\n",
        "\n",
        "**Passenger Class (Pclass):**\n",
        "\n",
        "Survival likelihood decreased from 1st → 2nd → 3rd class.\n",
        "\n",
        "**Age:**\n",
        "\n",
        "Infants and children had better chances of survival compared to adults.\n",
        "\n",
        "**2. Additional Influential Factors**\n",
        "\n",
        "**Family Size:**\n",
        "\n",
        "Small families (2–4 members) had higher survival chances.\n",
        "\n",
        "Traveling alone or in very large families reduced survival probability.\n",
        "\n",
        "**Fare / Cabin:**\n",
        "\n",
        "Higher fare and having a cabin were associated with higher survival, serving as a proxy for wealth and class.\n",
        "\n",
        "**Port of Embarkation:**\n",
        "\n",
        "Passengers boarding at Cherbourg (C) showed higher survival rates, likely due to a higher proportion of 1st-class passengers.\n",
        "\n",
        "**Takeaway:**\n",
        "These insights form a strong foundation for building a predictive machine learning model to forecast survival, highlighting the importance of social factors, demographics, and economic status."
      ],
      "metadata": {
        "id": "rhw_0aJWwrSn"
      }
    }
  ]
}